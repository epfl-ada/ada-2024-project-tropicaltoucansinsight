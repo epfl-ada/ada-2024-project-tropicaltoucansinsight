{
 "cells": [
  {
   "cell_type": "markdown",
   "source": [
    "<div style=\"padding:15px 20px 20px 20px;border-left:3px solid #87CEFA;background-color:#f0fbff;border-radius: 20px;color:#424242;\">\n",
    "\n",
    "# **Notebook Description**\n",
    "\n",
    "## Table of Contents\n",
    "- **1. Setup**\n",
    "    - 1.1) Local Setup\n",
    "    - 1.2) Downloading the Data\n",
    "\n",
    "- **2. Channel Dataset Analysis**\n",
    "    - 2.1) \n",
    "    - 2.2) \n",
    "\n",
    "- **3. Time Series Dataset Analysis**\n",
    "    - 3.1) \n",
    "    - 3.2) \n",
    "\n",
    "- **4. Video Metadata Dataset Analysis**\n",
    "    - 4.1) \n",
    "    - 4.2) \n",
    "\n",
    "- **5. Comment Dataset Analysis**\n",
    "    - 5.1) \n",
    "    - 5.2) \n",
    "\n",
    "- **6.**\n",
    "\n",
    "</div>\n"
   ],
   "metadata": {
    "collapsed": false
   },
   "id": "be56efd45012d839"
  },
  {
   "cell_type": "markdown",
   "source": [
    "# **1. Setup**"
   ],
   "metadata": {
    "collapsed": false
   },
   "id": "3cfc07c19d61aae6"
  },
  {
   "cell_type": "markdown",
   "source": [
    "## 1.1) Local Setup"
   ],
   "metadata": {
    "collapsed": false
   },
   "id": "4bea9f3fc9f087cf"
  },
  {
   "cell_type": "code",
   "outputs": [],
   "source": [
    "# !pip install -r pip_requirements.txt"
   ],
   "metadata": {
    "collapsed": false,
    "ExecuteTime": {
     "end_time": "2024-11-10T14:59:43.127764Z",
     "start_time": "2024-11-10T14:59:41.853762Z"
    }
   },
   "id": "75316f3e662e67cc",
   "execution_count": 16
  },
  {
   "cell_type": "code",
   "outputs": [
    {
     "name": "stdout",
     "output_type": "stream",
     "text": [
      "The autoreload extension is already loaded. To reload it, use:\n",
      "  %reload_ext autoreload\n"
     ]
    }
   ],
   "source": [
    "%load_ext autoreload\n",
    "%autoreload 2\n",
    "\n",
    "import os\n",
    "import pandas as pd\n",
    "import seaborn as sns\n",
    "import matplotlib.pyplot as plt\n",
    "import src.utils.data_utils as data_utils"
   ],
   "metadata": {
    "collapsed": false,
    "ExecuteTime": {
     "end_time": "2024-11-10T15:22:16.562193Z",
     "start_time": "2024-11-10T15:22:16.474178Z"
    }
   },
   "id": "9629135fda203e90",
   "execution_count": 46
  },
  {
   "cell_type": "code",
   "outputs": [],
   "source": [
    "ROOT_PATH = os.getcwd()\n",
    "DATA_PATH = os.path.join(ROOT_PATH, 'data')\n",
    "TIME_SERIES_PATH = os.path.join(DATA_PATH, 'time_series')\n",
    "CHANNELS_PATH = os.path.join(DATA_PATH, 'channels')\n",
    "VIDEO_METADATA_PATH = os.path.join(DATA_PATH, 'video_metadata')"
   ],
   "metadata": {
    "collapsed": false,
    "ExecuteTime": {
     "end_time": "2024-11-10T14:59:43.528389Z",
     "start_time": "2024-11-10T14:59:43.366130Z"
    }
   },
   "id": "f37425a763d3ae73",
   "execution_count": 18
  },
  {
   "cell_type": "markdown",
   "source": [
    "## 1.2) Downloading the Data"
   ],
   "metadata": {
    "collapsed": false
   },
   "id": "6cd6759b8f099121"
  },
  {
   "cell_type": "code",
   "outputs": [],
   "source": [
    "# Download the datasets (ordered by size), comment out the ones you don't need \n",
    "datasets = [\n",
    "    # (\"https://zenodo.org/records/4650046/files/_raw_df_channels.tsv.gz?download=1\", \"channels.tsv.gz\"), # 6.0 MB\n",
    "    # (\"https://zenodo.org/records/4650046/files/_raw_df_timeseries.tsv.gz?download=1\", \"time_series.tsv.gz\" ), # 571.1 MB\n",
    "    # (\"https://zenodo.org/records/4650046/files/num_comments.tsv.gz?download=1\", \"num_comments.tsv.gz\"), # 754.6 MB\n",
    "    # (\"https://zenodo.org/records/4650046/files/num_comments_authors.tsv.gz?download=1\", \"num_comments_authors.tsv.gz\"), # 1.4 GB\n",
    "    # (\"https://zenodo.org/records/4650046/files/yt_metadata_en.jsonl.gz?download=1\", \"yt_metadata.jsonl.gz\"), # 13.6 GB\n",
    "    # (\"https://zenodo.org/records/4650046/files/youtube_comments.tsv.gz?download=1\", \"youtube_comments.tsv.gz\") # 77.2 GB\n",
    "]\n",
    "\n",
    "data_utils.get_data(datasets)\n",
    "DATA_PATH = os.path.join(ROOT_PATH, \"data\")"
   ],
   "metadata": {
    "collapsed": false,
    "ExecuteTime": {
     "end_time": "2024-11-10T14:59:44.307802Z",
     "start_time": "2024-11-10T14:59:44.148810Z"
    }
   },
   "id": "5eccc210a2769e65",
   "execution_count": 19
  },
  {
   "cell_type": "markdown",
   "source": [
    "# 2. Channel Dataset Analysis"
   ],
   "metadata": {
    "collapsed": false
   },
   "id": "33046f6316cb4de9"
  },
  {
   "cell_type": "code",
   "outputs": [
    {
     "data": {
      "text/plain": "     category_cc   join_date                   channel  \\\n0         Gaming  2010-04-29  UC-lHJZR3Gqxm24_Vd_AJ5Yw   \n1      Education  2006-09-01  UCbCmjCuTUZos6Inko4u57UQ   \n2  Entertainment  2006-09-20  UCpEhnqL0y41EpW2TvWAHD7Q   \n\n                   name_cc  subscribers_cc  videos_cc  subscriber_rank_sb  \\\n0                PewDiePie       101000000       3956                 3.0   \n1  Cocomelon - Nursery ...        60100000        458                 7.0   \n2                SET India        56018869      32661                 8.0   \n\n   weights  \n0    2.087  \n1    2.087  \n2    2.087  ",
      "text/html": "<div>\n<style scoped>\n    .dataframe tbody tr th:only-of-type {\n        vertical-align: middle;\n    }\n\n    .dataframe tbody tr th {\n        vertical-align: top;\n    }\n\n    .dataframe thead th {\n        text-align: right;\n    }\n</style>\n<table border=\"1\" class=\"dataframe\">\n  <thead>\n    <tr style=\"text-align: right;\">\n      <th></th>\n      <th>category_cc</th>\n      <th>join_date</th>\n      <th>channel</th>\n      <th>name_cc</th>\n      <th>subscribers_cc</th>\n      <th>videos_cc</th>\n      <th>subscriber_rank_sb</th>\n      <th>weights</th>\n    </tr>\n  </thead>\n  <tbody>\n    <tr>\n      <th>0</th>\n      <td>Gaming</td>\n      <td>2010-04-29</td>\n      <td>UC-lHJZR3Gqxm24_Vd_AJ5Yw</td>\n      <td>PewDiePie</td>\n      <td>101000000</td>\n      <td>3956</td>\n      <td>3.0</td>\n      <td>2.087</td>\n    </tr>\n    <tr>\n      <th>1</th>\n      <td>Education</td>\n      <td>2006-09-01</td>\n      <td>UCbCmjCuTUZos6Inko4u57UQ</td>\n      <td>Cocomelon - Nursery ...</td>\n      <td>60100000</td>\n      <td>458</td>\n      <td>7.0</td>\n      <td>2.087</td>\n    </tr>\n    <tr>\n      <th>2</th>\n      <td>Entertainment</td>\n      <td>2006-09-20</td>\n      <td>UCpEhnqL0y41EpW2TvWAHD7Q</td>\n      <td>SET India</td>\n      <td>56018869</td>\n      <td>32661</td>\n      <td>8.0</td>\n      <td>2.087</td>\n    </tr>\n  </tbody>\n</table>\n</div>"
     },
     "execution_count": 20,
     "metadata": {},
     "output_type": "execute_result"
    }
   ],
   "source": [
    "df_channels = pd.read_csv(f\"{DATA_PATH}/channels.tsv.gz\", sep=\"\\t\", compression=\"gzip\")\n",
    "df_channels.head(3)"
   ],
   "metadata": {
    "collapsed": false,
    "ExecuteTime": {
     "end_time": "2024-11-10T14:59:48.518113Z",
     "start_time": "2024-11-10T14:59:47.750058Z"
    }
   },
   "id": "c1ba7c0d5fc8080a",
   "execution_count": 20
  },
  {
   "cell_type": "code",
   "outputs": [
    {
     "name": "stdout",
     "output_type": "stream",
     "text": [
      "File 'D:\\ADA Project (SSD)\\data\\channels\\Autos & Vehicles.tsv.gz' already exists. Skipping...\n",
      "File 'D:\\ADA Project (SSD)\\data\\channels\\Comedy.tsv.gz' already exists. Skipping...\n",
      "File 'D:\\ADA Project (SSD)\\data\\channels\\Education.tsv.gz' already exists. Skipping...\n",
      "File 'D:\\ADA Project (SSD)\\data\\channels\\Entertainment.tsv.gz' already exists. Skipping...\n",
      "File 'D:\\ADA Project (SSD)\\data\\channels\\Film and Animation.tsv.gz' already exists. Skipping...\n",
      "File 'D:\\ADA Project (SSD)\\data\\channels\\Gaming.tsv.gz' already exists. Skipping...\n",
      "File 'D:\\ADA Project (SSD)\\data\\channels\\Howto & Style.tsv.gz' already exists. Skipping...\n",
      "File 'D:\\ADA Project (SSD)\\data\\channels\\Music.tsv.gz' already exists. Skipping...\n",
      "File 'D:\\ADA Project (SSD)\\data\\channels\\News & Politics.tsv.gz' already exists. Skipping...\n",
      "File 'D:\\ADA Project (SSD)\\data\\channels\\Nonprofits & Activism.tsv.gz' already exists. Skipping...\n",
      "File 'D:\\ADA Project (SSD)\\data\\channels\\People & Blogs.tsv.gz' already exists. Skipping...\n",
      "File 'D:\\ADA Project (SSD)\\data\\channels\\Pets & Animals.tsv.gz' already exists. Skipping...\n",
      "File 'D:\\ADA Project (SSD)\\data\\channels\\Science & Technology.tsv.gz' already exists. Skipping...\n",
      "File 'D:\\ADA Project (SSD)\\data\\channels\\Sports.tsv.gz' already exists. Skipping...\n",
      "File 'D:\\ADA Project (SSD)\\data\\channels\\Travel & Events.tsv.gz' already exists. Skipping...\n"
     ]
    }
   ],
   "source": [
    "# For each category, save the channels in a separate file \n",
    "data_utils.save_data_grouped_by_category(df_channels, column=\"category_cc\", output_dir=CHANNELS_PATH, overwrite=False)"
   ],
   "metadata": {
    "collapsed": false,
    "ExecuteTime": {
     "end_time": "2024-11-10T14:59:53.940704Z",
     "start_time": "2024-11-10T14:59:53.747535Z"
    }
   },
   "id": "118f1bc1a83abf76",
   "execution_count": 21
  },
  {
   "cell_type": "markdown",
   "source": [
    "# 3. Time Series Dataset Analysis"
   ],
   "metadata": {
    "collapsed": false
   },
   "id": "2f014c9a3c81832e"
  },
  {
   "cell_type": "code",
   "outputs": [
    {
     "data": {
      "text/plain": "                    channel            category             datetime  \\\n0  UCBJuEqXfXTdcPSbGO9qqn1g  Film and Animation  2017-07-03 00:00:00   \n1  UCBJuEqXfXTdcPSbGO9qqn1g  Film and Animation  2017-07-10 00:00:00   \n2  UCBJuEqXfXTdcPSbGO9qqn1g  Film and Animation  2017-07-17 00:00:00   \n\n           views    delta_views         subs  delta_subs  videos  \\\n0  202494.555556       0.000000   650.222222    0.000000       5   \n1  394085.666667  191591.111111  1046.000000  395.777778       6   \n2  835393.750000  441308.083333  1501.500000  455.500000       6   \n\n   delta_videos  activity  \n0             0         3  \n1             1         1  \n2             0         1  ",
      "text/html": "<div>\n<style scoped>\n    .dataframe tbody tr th:only-of-type {\n        vertical-align: middle;\n    }\n\n    .dataframe tbody tr th {\n        vertical-align: top;\n    }\n\n    .dataframe thead th {\n        text-align: right;\n    }\n</style>\n<table border=\"1\" class=\"dataframe\">\n  <thead>\n    <tr style=\"text-align: right;\">\n      <th></th>\n      <th>channel</th>\n      <th>category</th>\n      <th>datetime</th>\n      <th>views</th>\n      <th>delta_views</th>\n      <th>subs</th>\n      <th>delta_subs</th>\n      <th>videos</th>\n      <th>delta_videos</th>\n      <th>activity</th>\n    </tr>\n  </thead>\n  <tbody>\n    <tr>\n      <th>0</th>\n      <td>UCBJuEqXfXTdcPSbGO9qqn1g</td>\n      <td>Film and Animation</td>\n      <td>2017-07-03 00:00:00</td>\n      <td>202494.555556</td>\n      <td>0.000000</td>\n      <td>650.222222</td>\n      <td>0.000000</td>\n      <td>5</td>\n      <td>0</td>\n      <td>3</td>\n    </tr>\n    <tr>\n      <th>1</th>\n      <td>UCBJuEqXfXTdcPSbGO9qqn1g</td>\n      <td>Film and Animation</td>\n      <td>2017-07-10 00:00:00</td>\n      <td>394085.666667</td>\n      <td>191591.111111</td>\n      <td>1046.000000</td>\n      <td>395.777778</td>\n      <td>6</td>\n      <td>1</td>\n      <td>1</td>\n    </tr>\n    <tr>\n      <th>2</th>\n      <td>UCBJuEqXfXTdcPSbGO9qqn1g</td>\n      <td>Film and Animation</td>\n      <td>2017-07-17 00:00:00</td>\n      <td>835393.750000</td>\n      <td>441308.083333</td>\n      <td>1501.500000</td>\n      <td>455.500000</td>\n      <td>6</td>\n      <td>0</td>\n      <td>1</td>\n    </tr>\n  </tbody>\n</table>\n</div>"
     },
     "execution_count": 22,
     "metadata": {},
     "output_type": "execute_result"
    }
   ],
   "source": [
    "time_series = pd.read_csv(f\"{DATA_PATH}/time_series.tsv.gz\", sep=\"\\t\", compression=\"gzip\")\n",
    "time_series.head(3)"
   ],
   "metadata": {
    "collapsed": false,
    "ExecuteTime": {
     "end_time": "2024-11-10T15:01:00.877014Z",
     "start_time": "2024-11-10T14:59:57.401248Z"
    }
   },
   "id": "e0fe5a67dff5503d",
   "execution_count": 22
  },
  {
   "cell_type": "code",
   "outputs": [
    {
     "name": "stdout",
     "output_type": "stream",
     "text": [
      "File 'D:\\ADA Project (SSD)\\data\\time_series\\Autos & Vehicles.tsv.gz' already exists. Skipping...\n",
      "File 'D:\\ADA Project (SSD)\\data\\time_series\\Comedy.tsv.gz' already exists. Skipping...\n",
      "File 'D:\\ADA Project (SSD)\\data\\time_series\\Education.tsv.gz' already exists. Skipping...\n",
      "File 'D:\\ADA Project (SSD)\\data\\time_series\\Entertainment.tsv.gz' already exists. Skipping...\n",
      "File 'D:\\ADA Project (SSD)\\data\\time_series\\Film and Animation.tsv.gz' already exists. Skipping...\n",
      "File 'D:\\ADA Project (SSD)\\data\\time_series\\Gaming.tsv.gz' already exists. Skipping...\n",
      "File 'D:\\ADA Project (SSD)\\data\\time_series\\Howto & Style.tsv.gz' already exists. Skipping...\n",
      "File 'D:\\ADA Project (SSD)\\data\\time_series\\Music.tsv.gz' already exists. Skipping...\n",
      "File 'D:\\ADA Project (SSD)\\data\\time_series\\News & Politics.tsv.gz' already exists. Skipping...\n",
      "File 'D:\\ADA Project (SSD)\\data\\time_series\\Nonprofits & Activism.tsv.gz' already exists. Skipping...\n",
      "File 'D:\\ADA Project (SSD)\\data\\time_series\\People & Blogs.tsv.gz' already exists. Skipping...\n",
      "File 'D:\\ADA Project (SSD)\\data\\time_series\\Pets & Animals.tsv.gz' already exists. Skipping...\n",
      "File 'D:\\ADA Project (SSD)\\data\\time_series\\Science & Technology.tsv.gz' already exists. Skipping...\n",
      "File 'D:\\ADA Project (SSD)\\data\\time_series\\Sports.tsv.gz' already exists. Skipping...\n",
      "File 'D:\\ADA Project (SSD)\\data\\time_series\\Travel & Events.tsv.gz' already exists. Skipping...\n"
     ]
    }
   ],
   "source": [
    "# For each category, save the time series in a separate file\n",
    "data_utils.save_data_grouped_by_category(time_series, column=\"category\", output_dir=TIME_SERIES_PATH, overwrite=False)"
   ],
   "metadata": {
    "collapsed": false,
    "ExecuteTime": {
     "end_time": "2024-11-10T15:01:37.861801Z",
     "start_time": "2024-11-10T15:01:00.903012Z"
    }
   },
   "id": "c1036e9d3403d785",
   "execution_count": 23
  },
  {
   "cell_type": "markdown",
   "source": [
    "## 3.1) Example of Time Series Data: \"The evolution of Taylor Swift's channel\"\n",
    "\n",
    "Let's focus on the `Music` category and Taylor Swift's channel. First, since we only have access to the channel ids (via the `channel` column), we need to merge the channel ids with the channel names available in the `df_channels` dataset under the `name_cc` column."
   ],
   "metadata": {
    "collapsed": false
   },
   "id": "b1a0b0c6e57d435e"
  },
  {
   "cell_type": "code",
   "outputs": [],
   "source": [
    "category = \"Music\"\n",
    "df_music_time_series = pd.read_csv(f\"{TIME_SERIES_PATH}/{category}.tsv.gz\", sep='\\t', compression='gzip')\n",
    "df_music_channels = pd.read_csv(f\"{CHANNELS_PATH}/{category}.tsv.gz\", sep='\\t', compression='gzip')\n",
    "\n",
    "# Add the channel names to the time series dataset by merging the two datasets\n",
    "df_music_time_series = data_utils.merge_channel_name(df_music_time_series, df_music_channels, subscriber_rank=True)"
   ],
   "metadata": {
    "collapsed": false,
    "ExecuteTime": {
     "end_time": "2024-11-10T15:32:37.835097Z",
     "start_time": "2024-11-10T15:32:31.151891Z"
    }
   },
   "id": "344ee7cac6055930",
   "execution_count": 62
  },
  {
   "cell_type": "code",
   "outputs": [
    {
     "data": {
      "text/plain": "                          channel         name_cc    delta_views\n3358593  UC_TF0o9fX25CW7ka6W7U11A  Hippocampe Fou   89559.937500\n2224598  UC8g0oVZqXy9Ydhqn-ZbX7Wg             Eon   20024.111111\n1385840  UCZzKayG4T5pUPlEjeCmw5Lw    FREEBAND GOD  243773.250000",
      "text/html": "<div>\n<style scoped>\n    .dataframe tbody tr th:only-of-type {\n        vertical-align: middle;\n    }\n\n    .dataframe tbody tr th {\n        vertical-align: top;\n    }\n\n    .dataframe thead th {\n        text-align: right;\n    }\n</style>\n<table border=\"1\" class=\"dataframe\">\n  <thead>\n    <tr style=\"text-align: right;\">\n      <th></th>\n      <th>channel</th>\n      <th>name_cc</th>\n      <th>delta_views</th>\n    </tr>\n  </thead>\n  <tbody>\n    <tr>\n      <th>3358593</th>\n      <td>UC_TF0o9fX25CW7ka6W7U11A</td>\n      <td>Hippocampe Fou</td>\n      <td>89559.937500</td>\n    </tr>\n    <tr>\n      <th>2224598</th>\n      <td>UC8g0oVZqXy9Ydhqn-ZbX7Wg</td>\n      <td>Eon</td>\n      <td>20024.111111</td>\n    </tr>\n    <tr>\n      <th>1385840</th>\n      <td>UCZzKayG4T5pUPlEjeCmw5Lw</td>\n      <td>FREEBAND GOD</td>\n      <td>243773.250000</td>\n    </tr>\n  </tbody>\n</table>\n</div>"
     },
     "execution_count": 63,
     "metadata": {},
     "output_type": "execute_result"
    }
   ],
   "source": [
    "df_music_time_series[[\"channel\", \"name_cc\", \"delta_views\"]].sample(3)"
   ],
   "metadata": {
    "collapsed": false,
    "ExecuteTime": {
     "end_time": "2024-11-10T15:32:38.859007Z",
     "start_time": "2024-11-10T15:32:38.583938Z"
    }
   },
   "id": "4d8b152befcd0b0d",
   "execution_count": 63
  },
  {
   "cell_type": "code",
   "outputs": [
    {
     "data": {
      "text/plain": "<Figure size 1000x600 with 1 Axes>",
      "image/png": "[encoded data removed]"
     },
     "metadata": {},
     "output_type": "display_data"
    }
   ],
   "source": [
    "df_taylor_swift = df_music_time_series.query(\"name_cc == 'Taylor Swift'\")\n",
    "data_utils.plot_channel_time_series(df=df_taylor_swift,\n",
    "                                    datetime_col=\"datetime\", \n",
    "                                    quantities_to_plot=[\"views\", \"delta_views\", \"subs\", \"delta_subs\"], \n",
    "                                    title=\"Taylor Swift's Views and Subscribers Over Time\")"
   ],
   "metadata": {
    "collapsed": false,
    "ExecuteTime": {
     "end_time": "2024-11-10T15:46:29.726909Z",
     "start_time": "2024-11-10T15:46:29.062426Z"
    }
   },
   "id": "5a94eb402d14b7e3",
   "execution_count": 76
  },
  {
   "cell_type": "markdown",
   "source": [
    "# 4. Video Metadata Dataset Analysis"
   ],
   "metadata": {
    "collapsed": false
   },
   "id": "66aebd937fbab895"
  },
  {
   "cell_type": "code",
   "outputs": [],
   "source": [
    "# yt_metadata = pd.read_json(f\"{DATA_PATH}/yt_metadata.jsonl.gz\", lines=True)\n",
    "# yt_metadata.head(3)"
   ],
   "metadata": {
    "collapsed": false,
    "ExecuteTime": {
     "end_time": "2024-11-10T15:19:18.852749Z",
     "start_time": "2024-11-10T15:19:18.775252Z"
    }
   },
   "id": "aad5a17381844b3e",
   "execution_count": 39
  },
  {
   "cell_type": "markdown",
   "source": [
    "# 5. Comment Dataset Analysis"
   ],
   "metadata": {
    "collapsed": false
   },
   "id": "868456f9d3955e21"
  },
  {
   "cell_type": "code",
   "outputs": [],
   "source": [
    "num_comments = pd.read_csv(f\"{DATA_PATH}/num_comments.tsv.gz\", sep=\"\\t\", compression=\"gzip\")\n",
    "num_comments_authors = pd.read_csv(f\"{DATA_PATH}/num_comments_authors.tsv.gz\", sep=\"\\t\", compression=\"gzip\")\n",
    "# youtube_comments = pd.read_csv(f\"{DATA_PATH}/youtube_comments.tsv.gz\", sep=\"\\t\", compression=\"gzip\")"
   ],
   "metadata": {
    "collapsed": false
   },
   "id": "ce8505f0eecd4469"
  },
  {
   "cell_type": "markdown",
   "source": [
    "# 6. "
   ],
   "metadata": {
    "collapsed": false
   },
   "id": "3f851e31db58c6f2"
  },
  {
   "cell_type": "code",
   "outputs": [],
   "source": [],
   "metadata": {
    "collapsed": false
   },
   "id": "523631f870f9c08e"
  }
 ],
 "metadata": {
  "kernelspec": {
   "display_name": "Python 3",
   "language": "python",
   "name": "python3"
  },
  "language_info": {
   "codemirror_mode": {
    "name": "ipython",
    "version": 2
   },
   "file_extension": ".py",
   "mimetype": "text/x-python",
   "name": "python",
   "nbconvert_exporter": "python",
   "pygments_lexer": "ipython2",
   "version": "2.7.6"
  }
 },
 "nbformat": 4,
 "nbformat_minor": 5
}

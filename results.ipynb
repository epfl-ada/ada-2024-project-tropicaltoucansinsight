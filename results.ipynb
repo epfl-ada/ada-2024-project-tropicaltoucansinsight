{
 "cells": [
  {
   "cell_type": "markdown",
   "source": [
    "<div style=\"padding:15px 20px 20px 20px;border-left:3px solid #87CEFA;background-color:#f0fbff;border-radius: 20px;color:#424242;\">\n",
    "\n",
    "# **Notebook Description**\n",
    "\n",
    "## Table of Contents\n",
    "- **1. Setup**\n",
    "    - 1.1) Local Setup\n",
    "    - 1.2) Downloading the Data\n",
    "\n",
    "- **2. Analysis on the channel dataset**\n",
    "    - 2.1) \n",
    "    - 2.2) \n",
    "    \n",
    "- **3. Analysis on the video metadata dataset**\n",
    "    - 3.1) \n",
    "    - 3.2)\n",
    "\n",
    "- **4. Analysis on the comment dataset**\n",
    "    - 4.1) \n",
    "    - 4.2)\n",
    "\n",
    "- **5.**\n",
    "    \n",
    "</div>"
   ],
   "metadata": {
    "collapsed": false
   },
   "id": "be56efd45012d839"
  },
  {
   "cell_type": "markdown",
   "source": [
    "# **1. Setup**"
   ],
   "metadata": {
    "collapsed": false
   },
   "id": "3cfc07c19d61aae6"
  },
  {
   "cell_type": "markdown",
   "source": [
    "## 1.1) Local Setup"
   ],
   "metadata": {
    "collapsed": false
   },
   "id": "4bea9f3fc9f087cf"
  },
  {
   "cell_type": "code",
   "outputs": [],
   "source": [
    "# !pip install -r pip_requirements.txt"
   ],
   "metadata": {
    "collapsed": false,
    "ExecuteTime": {
     "end_time": "2024-11-10T11:41:06.702445Z",
     "start_time": "2024-11-10T11:41:06.699084Z"
    }
   },
   "id": "75316f3e662e67cc",
   "execution_count": 1
  },
  {
   "cell_type": "code",
   "outputs": [],
   "source": [
    "import os\n",
    "import src.utils.data_utils as data_utils"
   ],
   "metadata": {
    "collapsed": false,
    "ExecuteTime": {
     "end_time": "2024-11-10T12:11:38.941528Z",
     "start_time": "2024-11-10T12:11:38.933045Z"
    }
   },
   "id": "9629135fda203e90",
   "execution_count": 11
  },
  {
   "cell_type": "code",
   "outputs": [
    {
     "data": {
      "text/plain": "['.git',\n '.gitignore',\n '.ipynb_checkpoints',\n 'data',\n 'pip_requirements.txt',\n 'README.md',\n 'results.ipynb',\n 'src',\n 'test Notebooks',\n 'tests']"
     },
     "execution_count": 12,
     "metadata": {},
     "output_type": "execute_result"
    }
   ],
   "source": [
    "ROOT_PATH = os.getcwd()\n",
    "os.listdir(ROOT_PATH)"
   ],
   "metadata": {
    "collapsed": false,
    "ExecuteTime": {
     "end_time": "2024-11-10T12:11:40.990870Z",
     "start_time": "2024-11-10T12:11:40.983509Z"
    }
   },
   "id": "f37425a763d3ae73",
   "execution_count": 12
  },
  {
   "cell_type": "markdown",
   "source": [
    "## 1.2) Downloading the Data"
   ],
   "metadata": {
    "collapsed": false
   },
   "id": "6cd6759b8f099121"
  },
  {
   "cell_type": "code",
   "outputs": [
    {
     "name": "stdout",
     "output_type": "stream",
     "text": [
      "Downloading channels.tsv.gz from https://zenodo.org/records/4650046/files/_raw_df_channels.tsv.gz?download=1...\n",
      "channels.tsv.gz downloaded successfully.\n"
     ]
    }
   ],
   "source": [
    "# Download the datasets (ordered by size), comment out the ones you don't need \n",
    "datasets = [\n",
    "    (\"https://zenodo.org/records/4650046/files/_raw_df_channels.tsv.gz?download=1\", \"channels.tsv.gz\"), # 6.0 MB\n",
    "    # (\"https://zenodo.org/records/4650046/files/_raw_df_timeseries.tsv.gz?download=1\", \"time_series.tsv.gz\" ), # 571.1 MB\n",
    "    # (\"https://zenodo.org/records/4650046/files/num_comments.tsv.gz?download=1\", \"num_comments.tsv.gz\"), # 754.6 MB\n",
    "    # (\"https://zenodo.org/records/4650046/files/num_comments_authors.tsv.gz?download=1\", \"num_comments_authors.tsv.gz\"), # 1.4 GB\n",
    "    # (\"https://zenodo.org/records/4650046/files/yt_metadata_en.jsonl.gz?download=1\", \"yt_metadata.jsonl.gz\"), # 13.6 GB\n",
    "    # (\"https://zenodo.org/records/4650046/files/youtube_comments.tsv.gz?download=1\", \"youtube_comments.tsv.gz\") # 77.2 GB\n",
    "]\n",
    "\n",
    "data_utils.get_data(datasets)"
   ],
   "metadata": {
    "collapsed": false,
    "ExecuteTime": {
     "end_time": "2024-11-10T12:11:53.758460Z",
     "start_time": "2024-11-10T12:11:52.759446Z"
    }
   },
   "id": "5eccc210a2769e65",
   "execution_count": 13
  },
  {
   "cell_type": "markdown",
   "source": [
    "# 2. Analysis on the channel dataset"
   ],
   "metadata": {
    "collapsed": false
   },
   "id": "33046f6316cb4de9"
  },
  {
   "cell_type": "markdown",
   "source": [
    "# 3. Analysis on the video metadata dataset"
   ],
   "metadata": {
    "collapsed": false
   },
   "id": "66aebd937fbab895"
  },
  {
   "cell_type": "markdown",
   "source": [
    "# 4. Analysis on the comment dataset"
   ],
   "metadata": {
    "collapsed": false
   },
   "id": "868456f9d3955e21"
  },
  {
   "cell_type": "markdown",
   "source": [
    "# 5. "
   ],
   "metadata": {
    "collapsed": false
   },
   "id": "3f851e31db58c6f2"
  },
  {
   "cell_type": "code",
   "outputs": [],
   "source": [],
   "metadata": {
    "collapsed": false
   },
   "id": "523631f870f9c08e"
  }
 ],
 "metadata": {
  "kernelspec": {
   "display_name": "Python 3",
   "language": "python",
   "name": "python3"
  },
  "language_info": {
   "codemirror_mode": {
    "name": "ipython",
    "version": 2
   },
   "file_extension": ".py",
   "mimetype": "text/x-python",
   "name": "python",
   "nbconvert_exporter": "python",
   "pygments_lexer": "ipython2",
   "version": "2.7.6"
  }
 },
 "nbformat": 4,
 "nbformat_minor": 5
}

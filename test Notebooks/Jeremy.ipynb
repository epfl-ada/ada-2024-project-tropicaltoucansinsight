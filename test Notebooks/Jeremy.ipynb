{
 "cells": [
  {
   "cell_type": "code",
   "id": "initial_id",
   "metadata": {
    "collapsed": true,
    "ExecuteTime": {
     "end_time": "2024-11-10T12:12:41.463452Z",
     "start_time": "2024-11-10T12:12:41.142369Z"
    }
   },
   "source": [
    "# Plot figures in the notebook (instead of a new window)\n",
    "%matplotlib notebook\n",
    "\n",
    "# Automatically reload modules\n",
    "%load_ext autoreload\n",
    "%autoreload 2\n",
    "\n",
    "import os\n",
    "import numpy as np\n",
    "import pandas as pd\n",
    "import seaborn as sns\n",
    "import matplotlib.pyplot as plt"
   ],
   "outputs": [],
   "execution_count": 5
  },
  {
   "metadata": {
    "ExecuteTime": {
     "end_time": "2024-11-10T11:56:26.183404Z",
     "start_time": "2024-11-10T11:56:25.908924Z"
    }
   },
   "cell_type": "code",
   "source": [
    "df_channel_music = pd.read_csv(\"/Volumes/Crucial X6/channels/Music_channels.csv\", sep=\"\\t\")\n",
    "df_channel_music[\"join_date\"] = pd.to_datetime(df_channel_music[\"join_date\"])\n",
    "df_channel_music.head()"
   ],
   "id": "6a55972d62fd524f",
   "outputs": [
    {
     "data": {
      "text/plain": [
       "   Unnamed: 0 category_cc  join_date                   channel  \\\n",
       "0           6       Music 2014-03-12  UCFFbwnve3yF62-tVXkTyHqg   \n",
       "1           9       Music 2006-08-08  UC0C-w0YjGpqDXGB8IHb662A   \n",
       "2          11       Music 2007-02-09  UCfM3zsQsOnfWNUppiycmBuw   \n",
       "3          12       Music 2007-01-22  UC9CoOnJkIBMdeijd9qYoT_g   \n",
       "4          13       Music 2006-09-20  UCqECaJ8Gagnn7YCbPEzWH6g   \n",
       "\n",
       "             name_cc  subscribers_cc  videos_cc  subscriber_rank_sb  weights  \n",
       "0  Zee Music Company        43451109       4241                13.0    2.087  \n",
       "1         Ed Sheeran        42000000        154                17.0    2.087  \n",
       "2        EminemMusic        39000000        117                20.0    2.087  \n",
       "3      Ariana Grande        38090343        133                23.0    2.087  \n",
       "4       Taylor Swift        35800000        172                26.0    2.087  "
      ],
      "text/html": [
       "<div>\n",
       "<style scoped>\n",
       "    .dataframe tbody tr th:only-of-type {\n",
       "        vertical-align: middle;\n",
       "    }\n",
       "\n",
       "    .dataframe tbody tr th {\n",
       "        vertical-align: top;\n",
       "    }\n",
       "\n",
       "    .dataframe thead th {\n",
       "        text-align: right;\n",
       "    }\n",
       "</style>\n",
       "<table border=\"1\" class=\"dataframe\">\n",
       "  <thead>\n",
       "    <tr style=\"text-align: right;\">\n",
       "      <th></th>\n",
       "      <th>Unnamed: 0</th>\n",
       "      <th>category_cc</th>\n",
       "      <th>join_date</th>\n",
       "      <th>channel</th>\n",
       "      <th>name_cc</th>\n",
       "      <th>subscribers_cc</th>\n",
       "      <th>videos_cc</th>\n",
       "      <th>subscriber_rank_sb</th>\n",
       "      <th>weights</th>\n",
       "    </tr>\n",
       "  </thead>\n",
       "  <tbody>\n",
       "    <tr>\n",
       "      <th>0</th>\n",
       "      <td>6</td>\n",
       "      <td>Music</td>\n",
       "      <td>2014-03-12</td>\n",
       "      <td>UCFFbwnve3yF62-tVXkTyHqg</td>\n",
       "      <td>Zee Music Company</td>\n",
       "      <td>43451109</td>\n",
       "      <td>4241</td>\n",
       "      <td>13.0</td>\n",
       "      <td>2.087</td>\n",
       "    </tr>\n",
       "    <tr>\n",
       "      <th>1</th>\n",
       "      <td>9</td>\n",
       "      <td>Music</td>\n",
       "      <td>2006-08-08</td>\n",
       "      <td>UC0C-w0YjGpqDXGB8IHb662A</td>\n",
       "      <td>Ed Sheeran</td>\n",
       "      <td>42000000</td>\n",
       "      <td>154</td>\n",
       "      <td>17.0</td>\n",
       "      <td>2.087</td>\n",
       "    </tr>\n",
       "    <tr>\n",
       "      <th>2</th>\n",
       "      <td>11</td>\n",
       "      <td>Music</td>\n",
       "      <td>2007-02-09</td>\n",
       "      <td>UCfM3zsQsOnfWNUppiycmBuw</td>\n",
       "      <td>EminemMusic</td>\n",
       "      <td>39000000</td>\n",
       "      <td>117</td>\n",
       "      <td>20.0</td>\n",
       "      <td>2.087</td>\n",
       "    </tr>\n",
       "    <tr>\n",
       "      <th>3</th>\n",
       "      <td>12</td>\n",
       "      <td>Music</td>\n",
       "      <td>2007-01-22</td>\n",
       "      <td>UC9CoOnJkIBMdeijd9qYoT_g</td>\n",
       "      <td>Ariana Grande</td>\n",
       "      <td>38090343</td>\n",
       "      <td>133</td>\n",
       "      <td>23.0</td>\n",
       "      <td>2.087</td>\n",
       "    </tr>\n",
       "    <tr>\n",
       "      <th>4</th>\n",
       "      <td>13</td>\n",
       "      <td>Music</td>\n",
       "      <td>2006-09-20</td>\n",
       "      <td>UCqECaJ8Gagnn7YCbPEzWH6g</td>\n",
       "      <td>Taylor Swift</td>\n",
       "      <td>35800000</td>\n",
       "      <td>172</td>\n",
       "      <td>26.0</td>\n",
       "      <td>2.087</td>\n",
       "    </tr>\n",
       "  </tbody>\n",
       "</table>\n",
       "</div>"
      ]
     },
     "execution_count": 4,
     "metadata": {},
     "output_type": "execute_result"
    }
   ],
   "execution_count": 4
  },
  {
   "metadata": {},
   "cell_type": "code",
   "outputs": [],
   "execution_count": null,
   "source": "",
   "id": "5a97725527b76e80"
  }
 ],
 "metadata": {
  "kernelspec": {
   "display_name": "Python [conda env:ADA] *",
   "language": "python",
   "name": "conda-env-ADA-py"
  },
  "language_info": {
   "codemirror_mode": {
    "name": "ipython",
    "version": 2
   },
   "file_extension": ".py",
   "mimetype": "text/x-python",
   "name": "python",
   "nbconvert_exporter": "python",
   "pygments_lexer": "ipython2",
   "version": "2.7.6"
  }
 },
 "nbformat": 4,
 "nbformat_minor": 5
}

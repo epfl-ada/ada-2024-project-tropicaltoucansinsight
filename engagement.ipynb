{
 "cells": [
  {
   "cell_type": "code",
   "execution_count": 1,
   "metadata": {},
   "outputs": [],
   "source": [
    "%load_ext autoreload\n",
    "%autoreload 2\n",
    "\n",
    "import os\n",
    "import numpy as np\n",
    "import pandas as pd\n",
    "import seaborn as sns\n",
    "import src.utils.plot_config\n",
    "import matplotlib.pyplot as plt\n",
    "import src.utils.data_utils as data_utils"
   ]
  },
  {
   "cell_type": "code",
   "execution_count": 2,
   "metadata": {},
   "outputs": [],
   "source": [
    "ROOT_PATH = os.getcwd()\n",
    "DATA_PATH = os.path.join(ROOT_PATH, 'data')\n",
    "TIME_SERIES_PATH = os.path.join(DATA_PATH, 'time_series')\n",
    "CHANNELS_PATH = os.path.join(DATA_PATH, 'channels')\n",
    "VIDEO_METADATA_PATH = os.path.join(DATA_PATH, 'video_metadata')"
   ]
  },
  {
   "cell_type": "code",
   "execution_count": 3,
   "metadata": {},
   "outputs": [],
   "source": [
    "dataframes = {}\n",
    "\n",
    "categories = ['Entertainment', 'Music'] \n",
    "\n",
    "for category in categories:\n",
    "\n",
    "    df = pd.read_parquet(f\"{VIDEO_METADATA_PATH}/{category}.parquet.gz\")\n",
    "    df = data_utils.cast_df(df, type='video_metadata')\n",
    "    df.dropna(inplace=True)\n",
    "    \n",
    "    dataframes[f'df_metadata_{category}'] = df\n",
    "\n",
    "df_music = dataframes['df_metadata_Music']\n",
    "df_entertainment = dataframes['df_metadata_Entertainment']\n",
    "\n",
    "\n"
   ]
  },
  {
   "cell_type": "markdown",
   "metadata": {},
   "source": [
    "Now data are cleaned and separated in 2 dataframes"
   ]
  },
  {
   "cell_type": "code",
   "execution_count": null,
   "metadata": {},
   "outputs": [],
   "source": [
    "# Creation of engagement score for the 2 datasets\n",
    "df_entertainment['engagement_score'] = (\n",
    "    (df_entertainment['like_count'] + df_entertainment['dislike_count']) / \n",
    "    df_entertainment['view_count']\n",
    ")\n",
    "\n",
    "df_music['engagement_score'] = (\n",
    "    (df_music['like_count'] + df_music['dislike_count']) / \n",
    "    df_music['view_count']\n",
    ")"
   ]
  },
  {
   "cell_type": "code",
   "execution_count": 4,
   "metadata": {},
   "outputs": [],
   "source": [
    "# data_utils.get_stats_on_category(df_metadata_music,\n",
    "#                                  type='video_metadata', \n",
    "#                                  category_name='music', \n",
    "#                                  corr_method='spearman', \n",
    "#                                  verbose=False)"
   ]
  },
  {
   "cell_type": "code",
   "execution_count": 5,
   "metadata": {},
   "outputs": [],
   "source": [
    "# categories = [\"Music\", \"Entertainment\"]\n",
    "# df_metadata_entertainment = pd.read_parquet(f\"{VIDEO_METADATA_PATH}/Entertainment.parquet.gz\")"
   ]
  },
  {
   "cell_type": "code",
   "execution_count": 6,
   "metadata": {},
   "outputs": [],
   "source": [
    "# df_metadata_compare =  pd.concat([df_metadata_music, df_metadata_entertainment], axis=0)\n",
    "# data_utils.compare_distribution_across_categories(df_metadata_compare,\n",
    "#                                                   columns=[\"duration\"],\n",
    "#                                                   categories=categories,\n",
    "#                                                   x_logs=[True],\n",
    "#                                                   y_logs=[False],\n",
    "#                                                   kind=\"hist\",\n",
    "#                                                   hue=\"categories\")"
   ]
  }
 ],
 "metadata": {
  "kernelspec": {
   "display_name": "ada",
   "language": "python",
   "name": "python3"
  },
  "language_info": {
   "codemirror_mode": {
    "name": "ipython",
    "version": 3
   },
   "file_extension": ".py",
   "mimetype": "text/x-python",
   "name": "python",
   "nbconvert_exporter": "python",
   "pygments_lexer": "ipython3",
   "version": "3.11.10"
  }
 },
 "nbformat": 4,
 "nbformat_minor": 2
}

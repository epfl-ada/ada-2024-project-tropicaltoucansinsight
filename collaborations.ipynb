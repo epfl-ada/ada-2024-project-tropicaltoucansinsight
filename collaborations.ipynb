{
 "cells": [
  {
   "cell_type": "code",
   "execution_count": 1,
   "id": "initial_id",
   "metadata": {
    "collapsed": true,
    "ExecuteTime": {
     "end_time": "2024-12-02T17:24:49.113690Z",
     "start_time": "2024-12-02T17:24:40.281111Z"
    }
   },
   "outputs": [],
   "source": [
    "import re\n",
    "import pandas as pd\n",
    "import numpy as np\n",
    "from transformers import pipeline\n",
    "\n",
    "DATA_FILE = 'data/yt_metadata.jsonl.gz'\n",
    "MODEL_PATH = 'src/models/zero-shot-classification'"
   ]
  },
  {
   "cell_type": "code",
   "outputs": [],
   "source": [
    "def process_data(file_path, chunk_size, preprocess_func, output_path):\n",
    "    \"\"\"\n",
    "    Process a JSONL file in chunks and apply a preprocessing function to each chunk.\n",
    "\n",
    "    Args:\n",
    "        file_path (str): Path to the gzipped JSONL file.\n",
    "        chunk_size (int): Number of rows to process per chunk.\n",
    "        preprocess_func (callable): Function to apply to each chunk of data (Pandas DataFrame).\n",
    "        output_path (str): Path to store the processed data.\n",
    "\n",
    "    Returns:\n",
    "        None\n",
    "    \"\"\"\n",
    "    with pd.read_json(file_path, lines=True, \n",
    "                      compression=\"gzip\", \n",
    "                      chunksize=chunk_size) as reader, open(output_path, 'w') as outfile:\n",
    "        for chunk_df in reader:\n",
    "            # Apply preprocessing function to the chunk\n",
    "            processed_df = preprocess_func(chunk_df)\n",
    "            # Append the processed chunk to the output file\n",
    "            processed_df.to_json(outfile, orient=\"records\", lines=True)"
   ],
   "metadata": {
    "collapsed": false,
    "ExecuteTime": {
     "end_time": "2024-12-02T17:24:49.129734Z",
     "start_time": "2024-12-02T17:24:49.115692Z"
    }
   },
   "id": "c6457b30df1f2d93",
   "execution_count": 2
  },
  {
   "cell_type": "code",
   "outputs": [],
   "source": [
    "def detect_collaboration(text):\n",
    "    \"\"\"\n",
    "    Detect if the text indicates a collaboration.\n",
    "\n",
    "    Args:\n",
    "        text (str): Text to analyze.\n",
    "\n",
    "    Returns:\n",
    "        bool: True if collaboration is detected, False otherwise.\n",
    "    \"\"\"\n",
    "    # Define collaboration indicators\n",
    "    collaboration_patterns = [\n",
    "        r'\\bfeat\\b', r'\\bft\\b', r'\\bfeaturing\\b', r'\\bx\\b', r'\\+',\n",
    "    ]\n",
    "    # Combine patterns into a single regex pattern\n",
    "    pattern = re.compile('|'.join(collaboration_patterns), flags=re.IGNORECASE)\n",
    "    return bool(pattern.search(text))"
   ],
   "metadata": {
    "collapsed": false,
    "ExecuteTime": {
     "end_time": "2024-12-02T17:24:49.145691Z",
     "start_time": "2024-12-02T17:24:49.131691Z"
    }
   },
   "id": "8a07570e6de0b2db",
   "execution_count": 3
  },
  {
   "cell_type": "code",
   "outputs": [],
   "source": [
    "def preprocess_collaborations(chunk_df):\n",
    "    \"\"\"\n",
    "    Preprocess a chunk of data\n",
    "\n",
    "    Args:\n",
    "        chunk_df (pd.DataFrame): Chunk of data\n",
    "\n",
    "    Returns:\n",
    "        pd.DataFrame: Processed data\n",
    "    \"\"\"    \n",
    "    # Drop rows with missing values\n",
    "    chunk_df = chunk_df.dropna(how='any')\n",
    "    \n",
    "    # Only keep Music and Entertainment categories with selected columns\n",
    "    chunk_df = chunk_df[chunk_df['categories'].isin(['Music','Entertainment'])]\n",
    "    columns_to_keep = ['categories', 'title', 'description', 'tags', 'view_count',  'like_count', 'dislike_count', 'channel_id',]\n",
    "    chunk_df = chunk_df[columns_to_keep]\n",
    "    \n",
    "    # Only keep rows where the title indicates a collaboration\n",
    "    # chunk_df = chunk_df[chunk_df['tags'].apply(detect_collaboration)]\n",
    "    \n",
    "    return chunk_df"
   ],
   "metadata": {
    "collapsed": false,
    "ExecuteTime": {
     "end_time": "2024-12-02T17:24:49.161691Z",
     "start_time": "2024-12-02T17:24:49.146691Z"
    }
   },
   "id": "cfb753ebed5df898",
   "execution_count": 4
  },
  {
   "cell_type": "code",
   "outputs": [],
   "source": [
    "# Test the data processing function\n",
    "test_data = pd.read_json(DATA_FILE, lines=True, compression=\"gzip\", nrows=100000)"
   ],
   "metadata": {
    "collapsed": false,
    "ExecuteTime": {
     "end_time": "2024-12-02T17:24:51.415715Z",
     "start_time": "2024-12-02T17:24:49.163692Z"
    }
   },
   "id": "b5445713a8820104",
   "execution_count": 5
  },
  {
   "cell_type": "code",
   "outputs": [
    {
     "data": {
      "text/plain": "                                                   title     categories  \\\n40243  Tina y Tin cumple Camila🌸 👩🏾  (Canciones Infan...          Music   \n98785  Ranveer Singh HILARIOUS On Screen Kissing Demo...  Entertainment   \n92324  UNCUT | Super Fight League Season 2 Launch | T...  Entertainment   \n88311  Red carpet event of awards at Jagran film fest...  Entertainment   \n35217      ED SHEERAN - THE A TEAM - Easy Piano Tutorial          Music   \n40257  tina y tin + lorea (Personalized Songs For Kid...          Music   \n16299         The Script - You Won't Feel A Thing - live  Entertainment   \n86029  Star Studded Red Carpet of Times Auto Awards 2...  Entertainment   \n13289  Mezco Toyz One:12 Collective Deluxe Joker A.C....  Entertainment   \n99651  Remo D'Souza | Tiger Shroff | A Flying Jatt |G...  Entertainment   \n40096  Tina y Tin cumple Dante (Personalized Songs Fo...          Music   \n98988  Neha Sharma | Tum Bin 2 | Full Interview | Rap...  Entertainment   \n85501  Poison Press Conference | Arbaaz Khan | Riya S...  Entertainment   \n87311  SPOTTED: Alia Bhatt, Mahesh Bhatt, Sonam Kapoo...  Entertainment   \n97789  Akshay, Deepika, Sajid Speak About 'Housefull'...  Entertainment   \n95328          Actors Are Too Greedy says Saurabh Shukla  Entertainment   \n9172   Lady Antebellum - You Look Good (Creative Pian...          Music   \n13910                        ACBA: Top of The Food Chain  Entertainment   \n41615  Tina&Tin Happy Birthday RUTHIE 👸🏻 🤴🏻  (Persona...          Music   \n67585                 Mpire Comedy: F**k You Baby Hitler  Entertainment   \n88814  Radhika Apte recording for a Master class with...  Entertainment   \n51121  Yellowstone volcano17 earthquakes strike in ON...  Entertainment   \n96356  Hindi Devotional Song - Nagri Base Bhagto - Sa...  Entertainment   \n66548          Telenovelas Are Hell: Pasión de Gavilanes  Entertainment   \n22314                 Beenie Man - Stop live ina de pass          Music   \n98266  KRK | CONTROVERSIAL Rapid Fire On Salman Khan ...  Entertainment   \n98127  Kangana Ranaut Made Sense; Karan Johar Is The ...  Entertainment   \n15954  Can't believe this GOLDFISH breed in 2,000 gal...  Entertainment   \n95785  Ladies VS Ricky Bahl - Movie Review by Taran A...  Entertainment   \n41346  tina y tin + gisela (Personalized Songs For Ki...          Music   \n16257                      5SOS - Heartbreak Girl - live  Entertainment   \n84457  AMAZING QUIZ - How Well Do Karan & Sahher Know...  Entertainment   \n40126  Tina y Tin cumple Alexandra (Música Personaliz...          Music   \n98344  Armaan Malik & Amaal Mallik’s MUSICAL Rapid Fi...  Entertainment   \n94506                 Special Screening Of Rowdy Rathore  Entertainment   \n84587  “Anxiety Mein Mai Bhaag Jaunga, Release Ke Peh...  Entertainment   \n31334    Leaves - Ben&Ben Live Performance at Shangri-La          Music   \n41071  Tina y tin + evelyn 👧 (Canciones Infantiles Pe...          Music   \n37688  Tina & Tin Happy Birthday ALEXANDRA (Personali...          Music   \n96146  Actress Pia Trivedi on 'Hum Tum Shabana' - Exc...  Entertainment   \n9205   Sam Hunt - Drinking Too Much (Instrumental Pia...          Music   \n79551  AMAZING 9 GUITARS & 1 BASS SONG!!! | Alexander...          Music   \n90797  Alia Bhatt's Brilliant Rendition Of 'Ae Watan'...  Entertainment   \n40674  tina y tin + noa 🙌 (Música Personalizada para ...          Music   \n99014  Proud Of BJP, Narendra Modi; I Was Representin...  Entertainment   \n94502                Bollywood Bling With Vrajesh Hirjee  Entertainment   \n34200    BE PREPARED from THE LION KING - Piano Tutorial          Music   \n51329  Yellowstone volcano Eruption Map shows Where i...  Entertainment   \n85621                     SPOTTED: Alia Ibrahim @Burette  Entertainment   \n85189  SPOTTED: Jacqueline Fernandez at Mukesh Chhabr...  Entertainment   \n\n                                             description  \\\n40243  Feliz cumpleaños Calvin 😊\\n🎁 ►¡De todo para lo...   \n98785  In the second part of their Bollywood Hungama ...   \n92324  The launch of Super fight league season 2 happ...   \n88311  Also, do not forget to subscribe to Bollywood ...   \n35217  Sheet music: https://mnot.es/2PuTy2u\\nSUBSCRIB...   \n40257  Escucha el album completo de tina y tin + lore...   \n16299  The Script, concert at the Ziggo Dome in Amste...   \n86029  Also, do not forget to subscribe to Bollywood ...   \n13289  Order your Mezco Popeye figure here:\\nhttp://b...   \n99651  Remo D'Souza, Tiger Shroff, COO Of Hungama Dig...   \n40096  Feliz cumpleaños Dante, Tina y Tin han hecho e...   \n98988  In this Bollywood Hungama Exclusive Interview,...   \n85501  The makers of ZEE5 original's upcoming web ser...   \n87311  Gorgeous Bollywood Actress Alia Bhatt along wi...   \n97789  Housefull' is creating a lot of positive buzz ...   \n95328  Saurabh Shukla in this bollywoodhungama.com ex...   \n9172   DOWNLOAD FOR FREE MY 10 TIPS CHECKLIST TO HELP...   \n13910  Quick contest entry for my man billmaru aka Bi...   \n41615  Happy Birthday RUTHIE Tina & Tin wrote this so...   \n67585  Subscribe to Mpire Comedy: www.youtube.com/mpi...   \n88814  Also, do not forget to subscribe to Bollywood ...   \n51121  Help Support my Channel\\nhttps://www.gofundme....   \n96356  Hindi Devotional Song - Watch Nagri Base Bhagt...   \n66548  Telenovelas are known for being way too over-t...   \n22314                                                      \n98266  In this Bollywood Hungama Exclusive Interview,...   \n98127  In this Bollywood Hungama Exclusive conversati...   \n15954  You may send your support through the link pro...   \n95785  Watch the Bollywood Movie Review of Ladies VS ...   \n41346  Escucha el album completo de tina y tin + gise...   \n16257  5 Seconds of Summer, live at Amsterdam Arena, ...   \n84457  Watch #SunnyDeol, #KaranDeol & #SahherBambba i...   \n40126  Feliz cumpleaños Alexandra, Tina y Tin han hec...   \n98344  In this Bollywood Hungama Exclusive Interview ...   \n94506  A special screening of the Akshay Kumar-Sonaks...   \n84587  #AnuragKashyap and #NeerajGhaywan in an exclus...   \n31334                                    Ben&Ben Concert   \n41071  Baila Con La Escoba Evelyn 💖\\n🎁 ►¡De todo para...   \n37688  Happy Birthday ALEXANDRA Tina & Tin wrote this...   \n96146  Actress Pia Trivedi, who is making her debut i...   \n9205   DOWNLOAD FOR FREE MY 10 TIPS CHECKLIST TO HELP...   \n79551  In this video I played a song with  9 differen...   \n90797  Check Out Alia Bhatt's Brilliant Rendition Of ...   \n40674  Baila Con La Escoba Noa 👶🏻\\n🎁 ►¡De todo para l...   \n99014  Rakhi Sawant was seen wearing a black dress wi...   \n94502  Actor Vrajesh Hirjee, who was recently seen in...   \n34200  Sheet Music: http://mnot.es/2hRMD76 SUBSCRIBE ...   \n51329  Yellowstone volcano Eruption Map shows Where i...   \n85621  Bollywood Actress Pooja Bedi's daughter Alia I...   \n85189  Also, do not forget to subscribe to Bollywood ...   \n\n                                                    tags  \n40243  Tina y Tin cumple Camila,Tina y Tin,cumple,Cam...  \n98785  ranveer singh,vaani kapoor,befikre trailer,Bef...  \n92324  bollywood hungama interviews,exclusive intervi...  \n88311  bollywood hungama interviews,exclusive intervi...  \n35217  Easy Piano,Piano Tutorial,Ed Sheeran The A Tea...  \n40257                                     tina,tin,lorea  \n16299                                           M4H03939  \n86029  bollywood hungama interviews,exclusive intervi...  \n13289  A.C.B.A.,Articulated Comic Book Art,Art,Toys,A...  \n99651  a flying jatt,tiger shroff,a flying jatt trail...  \n40096  Tina y Tin cumple Dante,Tina y Tin,cumple Dant...  \n98988  tum bin 2 audio song,Ishq Mubarak,Ishq Mubarak...  \n85501  poison,press conference,nick saban press confe...  \n87311  Alia Bhatt,Mahesh Bhatt,Sonam Kapoor,Anil Kapo...  \n97789  Interviews,Sajid Khan,Akshay Kumar,Deepika Pad...  \n95328  Interview,Bollywood,Hungama,Interviews,Saurabh...  \n9172   piano,pianist,cover,live,musician,creative,tut...  \n13910  Marvel,Marvel Legends,Toybiz,LCBH,Articulated ...  \n41615  RUTHIE,Tina And Tin,Birthday Song,Birthday Par...  \n67585  funnyordie,funny or die,funny,comedy,sketch,lo...  \n88814  bollywood hungama interviews,exclusive intervi...  \n51121                                                     \n96356  Sai Sazda,Nagri Base Bhagto,Sunderam Khan/Dine...  \n66548  comedy,funny videos,funny moments,funny celebr...  \n22314  Beenie Man (Musical Artist),Reggae,Dancehall (...  \n98266  KRK,kamaal rashid khan (film actor),krk critic...  \n98127  Kangana Ranaut,Kaabil trailer,Yami Gautam,Hrit...  \n15954  Can goldfish breed in 2000 gallon tank?,Goldfi...  \n95785  Bollywood,Movie,Review,Ladies,VS,Ricky,Bahl,Ta...  \n41346                                    tinaytin gisela  \n16257  5sos,live,amsterdam,where we are tour,heartbre...  \n84457  bollywoodhungama.com,Pal Pal Dil Ke Paas team ...  \n40126  Tina y Tin cumple Alexandra,Tina y Tin,Cumplea...  \n98344  armaan malik,armaan malik songs,amaal mallik,A...  \n94506  Parties,and,Events-Video,Bollywood,Hungama,Eve...  \n84587  neeraj ghaywan on sacred games,anurag kashyap ...  \n31334  ben and ben,ben & ben,live performance,concert...  \n41071  tinaytin evelyn,tina y tin evelin,Tina Y Tin,B...  \n37688  Tina & Tin,Tina and tin,Birthday song,birthday...  \n96146  Pia,Trivedi,Hum,Tum,Shabana,Exclusive,Intervie...  \n9205   piano,pianist,cover,live,musician,creative,tut...  \n79551  Bodrik Guitars,Knaggs,PRS,Nick Huber,Hartung,W...  \n90797  Alia Bhatt ae watan,Alia Bhatt's Brilliant,Meg...  \n40674  tina,tin,noa,Tina Y Tin + Noa,Tina y Tin,Baila...  \n99014  rakhi sawant,rakhi sawant funny interview,rakh...  \n94502  Special,Feature,Bollywood,Hungama,Features,Vra...  \n34200  Piano Tutorial,Be Prepared,The Lion King Songs...  \n51329                                                     \n85621  Bollywood,Gossips,Pooja Bedi's Daughter Aliya ...  \n85189  jacqueline fernandez,jacqueline fernandez spot...  ",
      "text/html": "<div>\n<style scoped>\n    .dataframe tbody tr th:only-of-type {\n        vertical-align: middle;\n    }\n\n    .dataframe tbody tr th {\n        vertical-align: top;\n    }\n\n    .dataframe thead th {\n        text-align: right;\n    }\n</style>\n<table border=\"1\" class=\"dataframe\">\n  <thead>\n    <tr style=\"text-align: right;\">\n      <th></th>\n      <th>title</th>\n      <th>categories</th>\n      <th>description</th>\n      <th>tags</th>\n    </tr>\n  </thead>\n  <tbody>\n    <tr>\n      <th>40243</th>\n      <td>Tina y Tin cumple Camila🌸 👩🏾  (Canciones Infan...</td>\n      <td>Music</td>\n      <td>Feliz cumpleaños Calvin 😊\\n🎁 ►¡De todo para lo...</td>\n      <td>Tina y Tin cumple Camila,Tina y Tin,cumple,Cam...</td>\n    </tr>\n    <tr>\n      <th>98785</th>\n      <td>Ranveer Singh HILARIOUS On Screen Kissing Demo...</td>\n      <td>Entertainment</td>\n      <td>In the second part of their Bollywood Hungama ...</td>\n      <td>ranveer singh,vaani kapoor,befikre trailer,Bef...</td>\n    </tr>\n    <tr>\n      <th>92324</th>\n      <td>UNCUT | Super Fight League Season 2 Launch | T...</td>\n      <td>Entertainment</td>\n      <td>The launch of Super fight league season 2 happ...</td>\n      <td>bollywood hungama interviews,exclusive intervi...</td>\n    </tr>\n    <tr>\n      <th>88311</th>\n      <td>Red carpet event of awards at Jagran film fest...</td>\n      <td>Entertainment</td>\n      <td>Also, do not forget to subscribe to Bollywood ...</td>\n      <td>bollywood hungama interviews,exclusive intervi...</td>\n    </tr>\n    <tr>\n      <th>35217</th>\n      <td>ED SHEERAN - THE A TEAM - Easy Piano Tutorial</td>\n      <td>Music</td>\n      <td>Sheet music: https://mnot.es/2PuTy2u\\nSUBSCRIB...</td>\n      <td>Easy Piano,Piano Tutorial,Ed Sheeran The A Tea...</td>\n    </tr>\n    <tr>\n      <th>40257</th>\n      <td>tina y tin + lorea (Personalized Songs For Kid...</td>\n      <td>Music</td>\n      <td>Escucha el album completo de tina y tin + lore...</td>\n      <td>tina,tin,lorea</td>\n    </tr>\n    <tr>\n      <th>16299</th>\n      <td>The Script - You Won't Feel A Thing - live</td>\n      <td>Entertainment</td>\n      <td>The Script, concert at the Ziggo Dome in Amste...</td>\n      <td>M4H03939</td>\n    </tr>\n    <tr>\n      <th>86029</th>\n      <td>Star Studded Red Carpet of Times Auto Awards 2...</td>\n      <td>Entertainment</td>\n      <td>Also, do not forget to subscribe to Bollywood ...</td>\n      <td>bollywood hungama interviews,exclusive intervi...</td>\n    </tr>\n    <tr>\n      <th>13289</th>\n      <td>Mezco Toyz One:12 Collective Deluxe Joker A.C....</td>\n      <td>Entertainment</td>\n      <td>Order your Mezco Popeye figure here:\\nhttp://b...</td>\n      <td>A.C.B.A.,Articulated Comic Book Art,Art,Toys,A...</td>\n    </tr>\n    <tr>\n      <th>99651</th>\n      <td>Remo D'Souza | Tiger Shroff | A Flying Jatt |G...</td>\n      <td>Entertainment</td>\n      <td>Remo D'Souza, Tiger Shroff, COO Of Hungama Dig...</td>\n      <td>a flying jatt,tiger shroff,a flying jatt trail...</td>\n    </tr>\n    <tr>\n      <th>40096</th>\n      <td>Tina y Tin cumple Dante (Personalized Songs Fo...</td>\n      <td>Music</td>\n      <td>Feliz cumpleaños Dante, Tina y Tin han hecho e...</td>\n      <td>Tina y Tin cumple Dante,Tina y Tin,cumple Dant...</td>\n    </tr>\n    <tr>\n      <th>98988</th>\n      <td>Neha Sharma | Tum Bin 2 | Full Interview | Rap...</td>\n      <td>Entertainment</td>\n      <td>In this Bollywood Hungama Exclusive Interview,...</td>\n      <td>tum bin 2 audio song,Ishq Mubarak,Ishq Mubarak...</td>\n    </tr>\n    <tr>\n      <th>85501</th>\n      <td>Poison Press Conference | Arbaaz Khan | Riya S...</td>\n      <td>Entertainment</td>\n      <td>The makers of ZEE5 original's upcoming web ser...</td>\n      <td>poison,press conference,nick saban press confe...</td>\n    </tr>\n    <tr>\n      <th>87311</th>\n      <td>SPOTTED: Alia Bhatt, Mahesh Bhatt, Sonam Kapoo...</td>\n      <td>Entertainment</td>\n      <td>Gorgeous Bollywood Actress Alia Bhatt along wi...</td>\n      <td>Alia Bhatt,Mahesh Bhatt,Sonam Kapoor,Anil Kapo...</td>\n    </tr>\n    <tr>\n      <th>97789</th>\n      <td>Akshay, Deepika, Sajid Speak About 'Housefull'...</td>\n      <td>Entertainment</td>\n      <td>Housefull' is creating a lot of positive buzz ...</td>\n      <td>Interviews,Sajid Khan,Akshay Kumar,Deepika Pad...</td>\n    </tr>\n    <tr>\n      <th>95328</th>\n      <td>Actors Are Too Greedy says Saurabh Shukla</td>\n      <td>Entertainment</td>\n      <td>Saurabh Shukla in this bollywoodhungama.com ex...</td>\n      <td>Interview,Bollywood,Hungama,Interviews,Saurabh...</td>\n    </tr>\n    <tr>\n      <th>9172</th>\n      <td>Lady Antebellum - You Look Good (Creative Pian...</td>\n      <td>Music</td>\n      <td>DOWNLOAD FOR FREE MY 10 TIPS CHECKLIST TO HELP...</td>\n      <td>piano,pianist,cover,live,musician,creative,tut...</td>\n    </tr>\n    <tr>\n      <th>13910</th>\n      <td>ACBA: Top of The Food Chain</td>\n      <td>Entertainment</td>\n      <td>Quick contest entry for my man billmaru aka Bi...</td>\n      <td>Marvel,Marvel Legends,Toybiz,LCBH,Articulated ...</td>\n    </tr>\n    <tr>\n      <th>41615</th>\n      <td>Tina&amp;Tin Happy Birthday RUTHIE 👸🏻 🤴🏻  (Persona...</td>\n      <td>Music</td>\n      <td>Happy Birthday RUTHIE Tina &amp; Tin wrote this so...</td>\n      <td>RUTHIE,Tina And Tin,Birthday Song,Birthday Par...</td>\n    </tr>\n    <tr>\n      <th>67585</th>\n      <td>Mpire Comedy: F**k You Baby Hitler</td>\n      <td>Entertainment</td>\n      <td>Subscribe to Mpire Comedy: www.youtube.com/mpi...</td>\n      <td>funnyordie,funny or die,funny,comedy,sketch,lo...</td>\n    </tr>\n    <tr>\n      <th>88814</th>\n      <td>Radhika Apte recording for a Master class with...</td>\n      <td>Entertainment</td>\n      <td>Also, do not forget to subscribe to Bollywood ...</td>\n      <td>bollywood hungama interviews,exclusive intervi...</td>\n    </tr>\n    <tr>\n      <th>51121</th>\n      <td>Yellowstone volcano17 earthquakes strike in ON...</td>\n      <td>Entertainment</td>\n      <td>Help Support my Channel\\nhttps://www.gofundme....</td>\n      <td></td>\n    </tr>\n    <tr>\n      <th>96356</th>\n      <td>Hindi Devotional Song - Nagri Base Bhagto - Sa...</td>\n      <td>Entertainment</td>\n      <td>Hindi Devotional Song - Watch Nagri Base Bhagt...</td>\n      <td>Sai Sazda,Nagri Base Bhagto,Sunderam Khan/Dine...</td>\n    </tr>\n    <tr>\n      <th>66548</th>\n      <td>Telenovelas Are Hell: Pasión de Gavilanes</td>\n      <td>Entertainment</td>\n      <td>Telenovelas are known for being way too over-t...</td>\n      <td>comedy,funny videos,funny moments,funny celebr...</td>\n    </tr>\n    <tr>\n      <th>22314</th>\n      <td>Beenie Man - Stop live ina de pass</td>\n      <td>Music</td>\n      <td></td>\n      <td>Beenie Man (Musical Artist),Reggae,Dancehall (...</td>\n    </tr>\n    <tr>\n      <th>98266</th>\n      <td>KRK | CONTROVERSIAL Rapid Fire On Salman Khan ...</td>\n      <td>Entertainment</td>\n      <td>In this Bollywood Hungama Exclusive Interview,...</td>\n      <td>KRK,kamaal rashid khan (film actor),krk critic...</td>\n    </tr>\n    <tr>\n      <th>98127</th>\n      <td>Kangana Ranaut Made Sense; Karan Johar Is The ...</td>\n      <td>Entertainment</td>\n      <td>In this Bollywood Hungama Exclusive conversati...</td>\n      <td>Kangana Ranaut,Kaabil trailer,Yami Gautam,Hrit...</td>\n    </tr>\n    <tr>\n      <th>15954</th>\n      <td>Can't believe this GOLDFISH breed in 2,000 gal...</td>\n      <td>Entertainment</td>\n      <td>You may send your support through the link pro...</td>\n      <td>Can goldfish breed in 2000 gallon tank?,Goldfi...</td>\n    </tr>\n    <tr>\n      <th>95785</th>\n      <td>Ladies VS Ricky Bahl - Movie Review by Taran A...</td>\n      <td>Entertainment</td>\n      <td>Watch the Bollywood Movie Review of Ladies VS ...</td>\n      <td>Bollywood,Movie,Review,Ladies,VS,Ricky,Bahl,Ta...</td>\n    </tr>\n    <tr>\n      <th>41346</th>\n      <td>tina y tin + gisela (Personalized Songs For Ki...</td>\n      <td>Music</td>\n      <td>Escucha el album completo de tina y tin + gise...</td>\n      <td>tinaytin gisela</td>\n    </tr>\n    <tr>\n      <th>16257</th>\n      <td>5SOS - Heartbreak Girl - live</td>\n      <td>Entertainment</td>\n      <td>5 Seconds of Summer, live at Amsterdam Arena, ...</td>\n      <td>5sos,live,amsterdam,where we are tour,heartbre...</td>\n    </tr>\n    <tr>\n      <th>84457</th>\n      <td>AMAZING QUIZ - How Well Do Karan &amp; Sahher Know...</td>\n      <td>Entertainment</td>\n      <td>Watch #SunnyDeol, #KaranDeol &amp; #SahherBambba i...</td>\n      <td>bollywoodhungama.com,Pal Pal Dil Ke Paas team ...</td>\n    </tr>\n    <tr>\n      <th>40126</th>\n      <td>Tina y Tin cumple Alexandra (Música Personaliz...</td>\n      <td>Music</td>\n      <td>Feliz cumpleaños Alexandra, Tina y Tin han hec...</td>\n      <td>Tina y Tin cumple Alexandra,Tina y Tin,Cumplea...</td>\n    </tr>\n    <tr>\n      <th>98344</th>\n      <td>Armaan Malik &amp; Amaal Mallik’s MUSICAL Rapid Fi...</td>\n      <td>Entertainment</td>\n      <td>In this Bollywood Hungama Exclusive Interview ...</td>\n      <td>armaan malik,armaan malik songs,amaal mallik,A...</td>\n    </tr>\n    <tr>\n      <th>94506</th>\n      <td>Special Screening Of Rowdy Rathore</td>\n      <td>Entertainment</td>\n      <td>A special screening of the Akshay Kumar-Sonaks...</td>\n      <td>Parties,and,Events-Video,Bollywood,Hungama,Eve...</td>\n    </tr>\n    <tr>\n      <th>84587</th>\n      <td>“Anxiety Mein Mai Bhaag Jaunga, Release Ke Peh...</td>\n      <td>Entertainment</td>\n      <td>#AnuragKashyap and #NeerajGhaywan in an exclus...</td>\n      <td>neeraj ghaywan on sacred games,anurag kashyap ...</td>\n    </tr>\n    <tr>\n      <th>31334</th>\n      <td>Leaves - Ben&amp;Ben Live Performance at Shangri-La</td>\n      <td>Music</td>\n      <td>Ben&amp;Ben Concert</td>\n      <td>ben and ben,ben &amp; ben,live performance,concert...</td>\n    </tr>\n    <tr>\n      <th>41071</th>\n      <td>Tina y tin + evelyn 👧 (Canciones Infantiles Pe...</td>\n      <td>Music</td>\n      <td>Baila Con La Escoba Evelyn 💖\\n🎁 ►¡De todo para...</td>\n      <td>tinaytin evelyn,tina y tin evelin,Tina Y Tin,B...</td>\n    </tr>\n    <tr>\n      <th>37688</th>\n      <td>Tina &amp; Tin Happy Birthday ALEXANDRA (Personali...</td>\n      <td>Music</td>\n      <td>Happy Birthday ALEXANDRA Tina &amp; Tin wrote this...</td>\n      <td>Tina &amp; Tin,Tina and tin,Birthday song,birthday...</td>\n    </tr>\n    <tr>\n      <th>96146</th>\n      <td>Actress Pia Trivedi on 'Hum Tum Shabana' - Exc...</td>\n      <td>Entertainment</td>\n      <td>Actress Pia Trivedi, who is making her debut i...</td>\n      <td>Pia,Trivedi,Hum,Tum,Shabana,Exclusive,Intervie...</td>\n    </tr>\n    <tr>\n      <th>9205</th>\n      <td>Sam Hunt - Drinking Too Much (Instrumental Pia...</td>\n      <td>Music</td>\n      <td>DOWNLOAD FOR FREE MY 10 TIPS CHECKLIST TO HELP...</td>\n      <td>piano,pianist,cover,live,musician,creative,tut...</td>\n    </tr>\n    <tr>\n      <th>79551</th>\n      <td>AMAZING 9 GUITARS &amp; 1 BASS SONG!!! | Alexander...</td>\n      <td>Music</td>\n      <td>In this video I played a song with  9 differen...</td>\n      <td>Bodrik Guitars,Knaggs,PRS,Nick Huber,Hartung,W...</td>\n    </tr>\n    <tr>\n      <th>90797</th>\n      <td>Alia Bhatt's Brilliant Rendition Of 'Ae Watan'...</td>\n      <td>Entertainment</td>\n      <td>Check Out Alia Bhatt's Brilliant Rendition Of ...</td>\n      <td>Alia Bhatt ae watan,Alia Bhatt's Brilliant,Meg...</td>\n    </tr>\n    <tr>\n      <th>40674</th>\n      <td>tina y tin + noa 🙌 (Música Personalizada para ...</td>\n      <td>Music</td>\n      <td>Baila Con La Escoba Noa 👶🏻\\n🎁 ►¡De todo para l...</td>\n      <td>tina,tin,noa,Tina Y Tin + Noa,Tina y Tin,Baila...</td>\n    </tr>\n    <tr>\n      <th>99014</th>\n      <td>Proud Of BJP, Narendra Modi; I Was Representin...</td>\n      <td>Entertainment</td>\n      <td>Rakhi Sawant was seen wearing a black dress wi...</td>\n      <td>rakhi sawant,rakhi sawant funny interview,rakh...</td>\n    </tr>\n    <tr>\n      <th>94502</th>\n      <td>Bollywood Bling With Vrajesh Hirjee</td>\n      <td>Entertainment</td>\n      <td>Actor Vrajesh Hirjee, who was recently seen in...</td>\n      <td>Special,Feature,Bollywood,Hungama,Features,Vra...</td>\n    </tr>\n    <tr>\n      <th>34200</th>\n      <td>BE PREPARED from THE LION KING - Piano Tutorial</td>\n      <td>Music</td>\n      <td>Sheet Music: http://mnot.es/2hRMD76 SUBSCRIBE ...</td>\n      <td>Piano Tutorial,Be Prepared,The Lion King Songs...</td>\n    </tr>\n    <tr>\n      <th>51329</th>\n      <td>Yellowstone volcano Eruption Map shows Where i...</td>\n      <td>Entertainment</td>\n      <td>Yellowstone volcano Eruption Map shows Where i...</td>\n      <td></td>\n    </tr>\n    <tr>\n      <th>85621</th>\n      <td>SPOTTED: Alia Ibrahim @Burette</td>\n      <td>Entertainment</td>\n      <td>Bollywood Actress Pooja Bedi's daughter Alia I...</td>\n      <td>Bollywood,Gossips,Pooja Bedi's Daughter Aliya ...</td>\n    </tr>\n    <tr>\n      <th>85189</th>\n      <td>SPOTTED: Jacqueline Fernandez at Mukesh Chhabr...</td>\n      <td>Entertainment</td>\n      <td>Also, do not forget to subscribe to Bollywood ...</td>\n      <td>jacqueline fernandez,jacqueline fernandez spot...</td>\n    </tr>\n  </tbody>\n</table>\n</div>"
     },
     "execution_count": 6,
     "metadata": {},
     "output_type": "execute_result"
    }
   ],
   "source": [
    "processed_df = preprocess_collaborations(test_data)\n",
    "processed_df[['title', 'categories','description', 'tags']].sample(50)"
   ],
   "metadata": {
    "collapsed": false,
    "ExecuteTime": {
     "end_time": "2024-12-02T17:24:51.557526Z",
     "start_time": "2024-12-02T17:24:51.417495Z"
    }
   },
   "id": "30af129a22900346",
   "execution_count": 6
  },
  {
   "cell_type": "code",
   "outputs": [],
   "source": [
    "classifier = pipeline(\"zero-shot-classification\", model=\"facebook/bart-large-mnli\")\n",
    "\n",
    "# Save the model to disk\n",
    "model_path = \"src/models/zero-shot-classification\"\n",
    "classifier.save_pretrained(model_path)"
   ],
   "metadata": {
    "collapsed": false,
    "ExecuteTime": {
     "end_time": "2024-12-02T17:26:08.266538Z",
     "start_time": "2024-12-02T17:26:02.035923Z"
    }
   },
   "id": "9039dc54025de517",
   "execution_count": 7
  },
  {
   "cell_type": "code",
   "outputs": [],
   "source": [
    "def is_significant(collab_score, non_collab_score, threshold=0.1):\n",
    "    \"\"\"\n",
    "    Check if the difference between two scores is significant.\n",
    "\n",
    "    Args:\n",
    "        collab_score (float): Score for the collaboration label.\n",
    "        non_collab_score (float): Score for the non-collaboration label.\n",
    "        threshold (float): Minimum difference to consider the scores significant.\n",
    "\n",
    "    Returns:\n",
    "        bool: True if the scores are significant, False otherwise.\n",
    "    \"\"\"\n",
    "    return abs(collab_score - non_collab_score) > threshold"
   ],
   "metadata": {
    "collapsed": false,
    "ExecuteTime": {
     "end_time": "2024-12-02T17:26:08.282583Z",
     "start_time": "2024-12-02T17:26:08.269220Z"
    }
   },
   "id": "a5c95818ac0ea063",
   "execution_count": 8
  },
  {
   "cell_type": "code",
   "outputs": [
    {
     "name": "stdout",
     "output_type": "stream",
     "text": [
      "Text: The Beatles - Hey Jude. \n",
      "    - Predicted category: Non-Collaborative, \n",
      "    - collab_score: 0.121126189827919, \n",
      "    - non_collab_score: 0.8788738250732422\n",
      "Text: Best of Debussy. \n",
      "    - Predicted category: Non-Collaborative, \n",
      "    - collab_score: 0.06659115850925446, \n",
      "    - non_collab_score: 0.9334088563919067\n",
      "Text: HAYATO SUMINO – third round (18th Chopin Competition, Warsaw). \n",
      "    - Predicted category: Non-Collaborative, \n",
      "    - collab_score: 0.17599695920944214, \n",
      "    - non_collab_score: 0.8240030407905579\n",
      "Text: LL COOL J - Murdergram Deux ft. Eminem. \n",
      "    - Predicted category: Collaborative, \n",
      "    - collab_score: 0.9665012955665588, \n",
      "    - non_collab_score: 0.03349871188402176\n",
      "Text: Eminem - Love The Way You Lie ft. Rihanna. \n",
      "    - Predicted category: Collaborative, \n",
      "    - collab_score: 0.9764209389686584, \n",
      "    - non_collab_score: 0.0235790703445673\n"
     ]
    }
   ],
   "source": [
    "# Labels for the zero-shot classification model\n",
    "music_collab_labels = ['multiple artists']\n",
    "music_non_collab_labels = ['a single artist']\n",
    "music_labels = music_collab_labels + music_non_collab_labels\n",
    "\n",
    "# Hypothesis template for the zero-shot classification model\n",
    "music_hypothesis_template = \"This music is with {}.\"\n",
    "\n",
    "texts = [\"Radiohead live at Glastonbury 2003\",\n",
    "         \"The Beatles - Hey Jude\", \n",
    "         \"Best of Debussy\",\n",
    "         \"HAYATO SUMINO – third round (18th Chopin Competition, Warsaw)\",\n",
    "         \"LL COOL J - Murdergram Deux ft. Eminem\", \n",
    "         \"Eminem - Love The Way You Lie ft. Rihanna\"\n",
    "         ]\n",
    "\n",
    "for text in texts:\n",
    "    result = classifier(\n",
    "        text,\n",
    "        candidate_labels=music_labels,\n",
    "        hypothesis_template=music_hypothesis_template,\n",
    "        multi_label=False,\n",
    "    )\n",
    "\n",
    "    # Extract scores for collaboration and non-collaboration labels\n",
    "    collab_scores = np.array([score for label, score in zip(result['labels'], result['scores']) if label in music_collab_labels])\n",
    "    non_collab_scores = np.array([score for label, score in zip(result['labels'], result['scores']) if label in music_non_collab_labels])\n",
    "\n",
    "    total_collab_score = collab_scores.sum()\n",
    "    total_non_collab_score = non_collab_scores.sum()\n",
    "\n",
    "    # Check if the scores are significant\n",
    "    if is_significant(total_collab_score, total_non_collab_score, threshold=0.5):\n",
    "        # Décider de la catégorie basée sur le score maximal\n",
    "        if total_collab_score > total_non_collab_score:\n",
    "            prediction = \"Collaborative\"\n",
    "        else:\n",
    "            prediction = \"Non-Collaborative\"\n",
    "    else:\n",
    "        continue\n",
    "\n",
    "    print(f\"Text: {text}. \"\n",
    "          f\"\\n    - Predicted category: {prediction}, \"\n",
    "          f\"\\n    - collab_score: {total_collab_score}, \"\n",
    "          f\"\\n    - non_collab_score: {total_non_collab_score}\")"
   ],
   "metadata": {
    "collapsed": false,
    "ExecuteTime": {
     "end_time": "2024-12-02T17:26:10.625616Z",
     "start_time": "2024-12-02T17:26:08.284241Z"
    }
   },
   "id": "66483f636a96f6a0",
   "execution_count": 9
  },
  {
   "cell_type": "code",
   "outputs": [],
   "source": [],
   "metadata": {
    "collapsed": false
   },
   "id": "c9accc2701c4f512"
  }
 ],
 "metadata": {
  "kernelspec": {
   "display_name": "Python 3",
   "language": "python",
   "name": "python3"
  },
  "language_info": {
   "codemirror_mode": {
    "name": "ipython",
    "version": 2
   },
   "file_extension": ".py",
   "mimetype": "text/x-python",
   "name": "python",
   "nbconvert_exporter": "python",
   "pygments_lexer": "ipython2",
   "version": "2.7.6"
  }
 },
 "nbformat": 4,
 "nbformat_minor": 5
}
